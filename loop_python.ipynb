{
 "cells": [
  {
   "cell_type": "code",
   "execution_count": 2,
   "id": "5a8f09ab-dc58-43ed-b8b0-d4c57555fcf5",
   "metadata": {},
   "outputs": [
    {
     "name": "stdout",
     "output_type": "stream",
     "text": [
      "André\n",
      "Bruna\n",
      "Carol\n",
      "Eduardo\n",
      "Marcelo\n",
      "Pedro\n"
     ]
    }
   ],
   "source": [
    "students = ['André', 'Bruna', 'Carol', 'Eduardo', 'Marcelo', 'Pedro']\n",
    "\n",
    "for student in students:\n",
    "    print(student)"
   ]
  },
  {
   "cell_type": "code",
   "execution_count": 4,
   "id": "e966e424-cfca-48d5-ac62-e189d7e0d3be",
   "metadata": {},
   "outputs": [
    {
     "name": "stdout",
     "output_type": "stream",
     "text": [
      "A123_André\n",
      "A123_Bruna\n",
      "A123_Carol\n",
      "A123_Eduardo\n",
      "A123_Marcelo\n",
      "A123_Pedro\n"
     ]
    }
   ],
   "source": [
    "for student in students:\n",
    "    student_id = 'A123_'+student\n",
    "    print(student_id)"
   ]
  },
  {
   "cell_type": "code",
   "execution_count": 8,
   "id": "bce238a6-1a2c-4b7e-a1c1-36be0703edc0",
   "metadata": {},
   "outputs": [
    {
     "data": {
      "text/plain": [
       "['A123André',\n",
       " 'A123Bruna',\n",
       " 'A123Carol',\n",
       " 'A123Eduardo',\n",
       " 'A123Marcelo',\n",
       " 'A123Pedro']"
      ]
     },
     "execution_count": 8,
     "metadata": {},
     "output_type": "execute_result"
    }
   ],
   "source": [
    "ids = []\n",
    "\n",
    "for student in students:\n",
    "    student_id = 'A123'+student\n",
    "    ids.append(student_id)\n",
    "\n",
    "ids"
   ]
  },
  {
   "cell_type": "code",
   "execution_count": 10,
   "id": "ae415e2a-bb80-4975-8a7a-7764255bccdc",
   "metadata": {},
   "outputs": [
    {
     "name": "stdout",
     "output_type": "stream",
     "text": [
      "Pedro\n",
      "Marcelo\n",
      "Eduardo\n",
      "Carol\n",
      "Bruna\n",
      "André\n"
     ]
    }
   ],
   "source": [
    "for student in reversed(students):\n",
    "    print(student)"
   ]
  },
  {
   "cell_type": "code",
   "execution_count": 22,
   "id": "03af2ce8-440c-47a5-92e8-3bed701e73d4",
   "metadata": {},
   "outputs": [
    {
     "data": {
      "text/plain": [
       "['A1_André', 'A1_Bruna', 'A1_Carol', 'A1_Eduardo', 'A2_Marcelo', 'A2_Pedro']"
      ]
     },
     "execution_count": 22,
     "metadata": {},
     "output_type": "execute_result"
    }
   ],
   "source": [
    "ids = []\n",
    "\n",
    "for student in students:\n",
    "    if student[0] in ['A','B','C','D','E','F'] :\n",
    "        student_id = 'A1_'+student\n",
    "    else:\n",
    "        student_id = 'A2_'+student\n",
    "    ids.append(student_id)\n",
    "    \n",
    "ids"
   ]
  },
  {
   "cell_type": "code",
   "execution_count": 36,
   "id": "7e75ae66-dac1-429f-a038-41b75ed86a5d",
   "metadata": {},
   "outputs": [
    {
     "name": "stdout",
     "output_type": "stream",
     "text": [
      "Tivemos 3 aluno(s) reprovado(s), e 3 aluno(s) aprovado(s).\n",
      "Temos 6 alunos\n"
     ]
    }
   ],
   "source": [
    "notas = [95, 85, 50, 55, 79, 35]\n",
    "\n",
    "reprovados = 0   \n",
    "aprovados = 0  \n",
    "contador_geral = 0    \n",
    "\n",
    "for x in notas:\n",
    "    contador_geral +=1\n",
    "    if x < 60:\n",
    "        reprovados+=1\n",
    "    else:\n",
    "        aprovados+=1\n",
    "\n",
    "print(\"Tivemos \"+str(reprovados)+\" aluno(s) reprovado(s), e \"+str(aprovados)+\" aluno(s) aprovado(s).\")   \n",
    "print(\"Temos \"+str(contador_geral)+\" alunos\")"
   ]
  },
  {
   "cell_type": "code",
   "execution_count": 46,
   "id": "ef0d30e7-ec2c-4297-b0e4-b4e4787a4040",
   "metadata": {},
   "outputs": [
    {
     "data": {
      "text/html": [
       "<div>\n",
       "<style scoped>\n",
       "    .dataframe tbody tr th:only-of-type {\n",
       "        vertical-align: middle;\n",
       "    }\n",
       "\n",
       "    .dataframe tbody tr th {\n",
       "        vertical-align: top;\n",
       "    }\n",
       "\n",
       "    .dataframe thead th {\n",
       "        text-align: right;\n",
       "    }\n",
       "</style>\n",
       "<table border=\"1\" class=\"dataframe\">\n",
       "  <thead>\n",
       "    <tr style=\"text-align: right;\">\n",
       "      <th></th>\n",
       "      <th>longitude</th>\n",
       "      <th>latitude</th>\n",
       "      <th>housing_median_age</th>\n",
       "      <th>total_rooms</th>\n",
       "      <th>total_bedrooms</th>\n",
       "      <th>population</th>\n",
       "      <th>households</th>\n",
       "      <th>median_income</th>\n",
       "      <th>ocean_proximity</th>\n",
       "      <th>median_house_value</th>\n",
       "    </tr>\n",
       "  </thead>\n",
       "  <tbody>\n",
       "    <tr>\n",
       "      <th>0</th>\n",
       "      <td>-122.23</td>\n",
       "      <td>37.88</td>\n",
       "      <td>41</td>\n",
       "      <td>880</td>\n",
       "      <td>129.0</td>\n",
       "      <td>322</td>\n",
       "      <td>126</td>\n",
       "      <td>8.3252</td>\n",
       "      <td>NEAR BAY</td>\n",
       "      <td>452600</td>\n",
       "    </tr>\n",
       "    <tr>\n",
       "      <th>1</th>\n",
       "      <td>-122.22</td>\n",
       "      <td>37.86</td>\n",
       "      <td>21</td>\n",
       "      <td>7099</td>\n",
       "      <td>1106.0</td>\n",
       "      <td>2401</td>\n",
       "      <td>1138</td>\n",
       "      <td>8.3014</td>\n",
       "      <td>NEAR BAY</td>\n",
       "      <td>358500</td>\n",
       "    </tr>\n",
       "    <tr>\n",
       "      <th>2</th>\n",
       "      <td>-122.24</td>\n",
       "      <td>37.85</td>\n",
       "      <td>52</td>\n",
       "      <td>1467</td>\n",
       "      <td>190.0</td>\n",
       "      <td>496</td>\n",
       "      <td>177</td>\n",
       "      <td>7.2574</td>\n",
       "      <td>NEAR BAY</td>\n",
       "      <td>352100</td>\n",
       "    </tr>\n",
       "    <tr>\n",
       "      <th>3</th>\n",
       "      <td>-122.25</td>\n",
       "      <td>37.85</td>\n",
       "      <td>52</td>\n",
       "      <td>1274</td>\n",
       "      <td>235.0</td>\n",
       "      <td>558</td>\n",
       "      <td>219</td>\n",
       "      <td>5.6431</td>\n",
       "      <td>NEAR BAY</td>\n",
       "      <td>341300</td>\n",
       "    </tr>\n",
       "    <tr>\n",
       "      <th>4</th>\n",
       "      <td>-122.25</td>\n",
       "      <td>37.85</td>\n",
       "      <td>52</td>\n",
       "      <td>1627</td>\n",
       "      <td>280.0</td>\n",
       "      <td>565</td>\n",
       "      <td>259</td>\n",
       "      <td>3.8462</td>\n",
       "      <td>NEAR BAY</td>\n",
       "      <td>342200</td>\n",
       "    </tr>\n",
       "  </tbody>\n",
       "</table>\n",
       "</div>"
      ],
      "text/plain": [
       "   longitude  latitude  housing_median_age  total_rooms  total_bedrooms  \\\n",
       "0    -122.23     37.88                  41          880           129.0   \n",
       "1    -122.22     37.86                  21         7099          1106.0   \n",
       "2    -122.24     37.85                  52         1467           190.0   \n",
       "3    -122.25     37.85                  52         1274           235.0   \n",
       "4    -122.25     37.85                  52         1627           280.0   \n",
       "\n",
       "   population  households  median_income ocean_proximity  median_house_value  \n",
       "0         322         126         8.3252        NEAR BAY              452600  \n",
       "1        2401        1138         8.3014        NEAR BAY              358500  \n",
       "2         496         177         7.2574        NEAR BAY              352100  \n",
       "3         558         219         5.6431        NEAR BAY              341300  \n",
       "4         565         259         3.8462        NEAR BAY              342200  "
      ]
     },
     "execution_count": 46,
     "metadata": {},
     "output_type": "execute_result"
    }
   ],
   "source": [
    "import pandas as pd\n",
    "import numpy as np\n",
    "housing = pd.read_csv('housing.csv')\n",
    "housing.head()"
   ]
  },
  {
   "cell_type": "code",
   "execution_count": 52,
   "id": "43683f45-e26c-4433-89d9-3f68fe125286",
   "metadata": {
    "scrolled": true
   },
   "outputs": [
    {
     "data": {
      "text/plain": [
       "['NEAR BAY',\n",
       " 'NEAR BAY',\n",
       " 'NEAR BAY',\n",
       " 'NEAR BAY',\n",
       " 'NEAR BAY',\n",
       " 'NEAR BAY',\n",
       " 'NEAR BAY',\n",
       " 'NEAR BAY',\n",
       " 'NEAR BAY',\n",
       " 'NEAR BAY']"
      ]
     },
     "execution_count": 52,
     "metadata": {},
     "output_type": "execute_result"
    }
   ],
   "source": [
    "# Extraindo números\n",
    "\n",
    "bairros_ricos = []\n",
    "\n",
    "for i in range(len(housing)) : \n",
    "    if housing.loc[i, \"median_income\"]>= 8.3252:\n",
    "        bairros_ricos.append(housing.loc[i, \"ocean_proximity\"])\n",
    "\n",
    "bairros_ricos[:10]"
   ]
  },
  {
   "cell_type": "code",
   "execution_count": 71,
   "id": "37c6b9b5-4c3e-479a-9cd4-9beeb2e45add",
   "metadata": {},
   "outputs": [
    {
     "data": {
      "image/png": "[encoded data removed]",
      "text/plain": [
       "<Figure size 2000x1000 with 9 Axes>"
      ]
     },
     "metadata": {},
     "output_type": "display_data"
    }
   ],
   "source": [
    "# Exemplo 2: traçando gráficos\n",
    "import seaborn as sns\n",
    "import matplotlib.pyplot as plt\n",
    "from scipy import stats\n",
    "\n",
    "numerics = ['int16', 'int32', 'int64', 'float16', 'float32', 'float64']\n",
    "housing_numeric = housing.select_dtypes(include=numerics)\n",
    "\n",
    "fig, axs = plt.subplots(ncols=3, nrows=3, figsize=(20, 10))\n",
    "index = 0\n",
    "axs = axs.flatten()\n",
    "\n",
    "for k,v in housing_numeric.items():\n",
    "    sns.histplot(v, ax=axs[index])\n",
    "    index += 1"
   ]
  },
  {
   "cell_type": "code",
   "execution_count": 73,
   "id": "7f9eb148-d9b5-4a89-9a48-454efd8e1f27",
   "metadata": {},
   "outputs": [
    {
     "data": {
      "text/html": [
       "<div>\n",
       "<style scoped>\n",
       "    .dataframe tbody tr th:only-of-type {\n",
       "        vertical-align: middle;\n",
       "    }\n",
       "\n",
       "    .dataframe tbody tr th {\n",
       "        vertical-align: top;\n",
       "    }\n",
       "\n",
       "    .dataframe thead th {\n",
       "        text-align: right;\n",
       "    }\n",
       "</style>\n",
       "<table border=\"1\" class=\"dataframe\">\n",
       "  <thead>\n",
       "    <tr style=\"text-align: right;\">\n",
       "      <th></th>\n",
       "      <th>Id</th>\n",
       "      <th>SepalLengthCm</th>\n",
       "      <th>SepalWidthCm</th>\n",
       "      <th>PetalLengthCm</th>\n",
       "      <th>PetalWidthCm</th>\n",
       "      <th>Species</th>\n",
       "    </tr>\n",
       "  </thead>\n",
       "  <tbody>\n",
       "    <tr>\n",
       "      <th>0</th>\n",
       "      <td>1</td>\n",
       "      <td>5.1</td>\n",
       "      <td>3.5</td>\n",
       "      <td>1.4</td>\n",
       "      <td>0.2</td>\n",
       "      <td>Iris-setosa</td>\n",
       "    </tr>\n",
       "    <tr>\n",
       "      <th>1</th>\n",
       "      <td>2</td>\n",
       "      <td>4.9</td>\n",
       "      <td>3.0</td>\n",
       "      <td>1.4</td>\n",
       "      <td>0.2</td>\n",
       "      <td>Iris-setosa</td>\n",
       "    </tr>\n",
       "    <tr>\n",
       "      <th>2</th>\n",
       "      <td>3</td>\n",
       "      <td>4.7</td>\n",
       "      <td>3.2</td>\n",
       "      <td>1.3</td>\n",
       "      <td>0.2</td>\n",
       "      <td>Iris-setosa</td>\n",
       "    </tr>\n",
       "    <tr>\n",
       "      <th>3</th>\n",
       "      <td>4</td>\n",
       "      <td>4.6</td>\n",
       "      <td>3.1</td>\n",
       "      <td>1.5</td>\n",
       "      <td>0.2</td>\n",
       "      <td>Iris-setosa</td>\n",
       "    </tr>\n",
       "    <tr>\n",
       "      <th>4</th>\n",
       "      <td>5</td>\n",
       "      <td>5.0</td>\n",
       "      <td>3.6</td>\n",
       "      <td>1.4</td>\n",
       "      <td>0.2</td>\n",
       "      <td>Iris-setosa</td>\n",
       "    </tr>\n",
       "  </tbody>\n",
       "</table>\n",
       "</div>"
      ],
      "text/plain": [
       "   Id  SepalLengthCm  SepalWidthCm  PetalLengthCm  PetalWidthCm      Species\n",
       "0   1            5.1           3.5            1.4           0.2  Iris-setosa\n",
       "1   2            4.9           3.0            1.4           0.2  Iris-setosa\n",
       "2   3            4.7           3.2            1.3           0.2  Iris-setosa\n",
       "3   4            4.6           3.1            1.5           0.2  Iris-setosa\n",
       "4   5            5.0           3.6            1.4           0.2  Iris-setosa"
      ]
     },
     "execution_count": 73,
     "metadata": {},
     "output_type": "execute_result"
    }
   ],
   "source": [
    "#Pegando um elemento de cada região\n",
    "\n",
    "import pandas as pd\n",
    "iris = pd.read_csv('iris.csv')\n",
    "iris.head()"
   ]
  },
  {
   "cell_type": "code",
   "execution_count": 77,
   "id": "41a54a2c-d30e-4e7c-af58-70067911ce1a",
   "metadata": {},
   "outputs": [
    {
     "data": {
      "text/plain": [
       "array(['Iris-setosa', 'Iris-versicolor', 'Iris-virginica'], dtype=object)"
      ]
     },
     "execution_count": 77,
     "metadata": {},
     "output_type": "execute_result"
    }
   ],
   "source": [
    "iris['Species'].unique()"
   ]
  },
  {
   "cell_type": "code",
   "execution_count": 98,
   "id": "40e6b675-d357-4bb2-bdc7-8464676e6295",
   "metadata": {},
   "outputs": [
    {
     "data": {
      "text/html": [
       "<div>\n",
       "<style scoped>\n",
       "    .dataframe tbody tr th:only-of-type {\n",
       "        vertical-align: middle;\n",
       "    }\n",
       "\n",
       "    .dataframe tbody tr th {\n",
       "        vertical-align: top;\n",
       "    }\n",
       "\n",
       "    .dataframe thead th {\n",
       "        text-align: right;\n",
       "    }\n",
       "</style>\n",
       "<table border=\"1\" class=\"dataframe\">\n",
       "  <thead>\n",
       "    <tr style=\"text-align: right;\">\n",
       "      <th></th>\n",
       "      <th>Id</th>\n",
       "      <th>SepalLengthCm</th>\n",
       "      <th>SepalWidthCm</th>\n",
       "      <th>PetalLengthCm</th>\n",
       "      <th>PetalWidthCm</th>\n",
       "      <th>Species</th>\n",
       "    </tr>\n",
       "  </thead>\n",
       "  <tbody>\n",
       "    <tr>\n",
       "      <th>25</th>\n",
       "      <td>26</td>\n",
       "      <td>5.0</td>\n",
       "      <td>3.0</td>\n",
       "      <td>1.6</td>\n",
       "      <td>0.2</td>\n",
       "      <td>Iris-setosa</td>\n",
       "    </tr>\n",
       "    <tr>\n",
       "      <th>71</th>\n",
       "      <td>72</td>\n",
       "      <td>6.1</td>\n",
       "      <td>2.8</td>\n",
       "      <td>4.0</td>\n",
       "      <td>1.3</td>\n",
       "      <td>Iris-versicolor</td>\n",
       "    </tr>\n",
       "    <tr>\n",
       "      <th>105</th>\n",
       "      <td>106</td>\n",
       "      <td>7.6</td>\n",
       "      <td>3.0</td>\n",
       "      <td>6.6</td>\n",
       "      <td>2.1</td>\n",
       "      <td>Iris-virginica</td>\n",
       "    </tr>\n",
       "  </tbody>\n",
       "</table>\n",
       "</div>"
      ],
      "text/plain": [
       "      Id  SepalLengthCm  SepalWidthCm  PetalLengthCm  PetalWidthCm  \\\n",
       "25    26            5.0           3.0            1.6           0.2   \n",
       "71    72            6.1           2.8            4.0           1.3   \n",
       "105  106            7.6           3.0            6.6           2.1   \n",
       "\n",
       "             Species  \n",
       "25       Iris-setosa  \n",
       "71   Iris-versicolor  \n",
       "105   Iris-virginica  "
      ]
     },
     "execution_count": 98,
     "metadata": {},
     "output_type": "execute_result"
    }
   ],
   "source": [
    "amostra = []\n",
    "\n",
    "for especie in iris['Species'].unique():\n",
    "    amostra.append(iris[iris['Species']==especie]['Id'].iloc[np.random.randint(30)])\n",
    "    \n",
    "iris[iris['Id'].isin(amostra)]"
   ]
  },
  {
   "cell_type": "code",
   "execution_count": 100,
   "id": "ade4989b-1bc4-408e-ac4d-d9dfc86ce501",
   "metadata": {},
   "outputs": [
    {
     "name": "stdout",
     "output_type": "stream",
     "text": [
      "Andre\n",
      "Bruna\n",
      "Carol\n",
      "Eduardo\n",
      "Marcela\n",
      "Pedro\n"
     ]
    }
   ],
   "source": [
    "# For e dicionários\n",
    "\n",
    "notas_dic = {\"Andre\": 95, \"Bruna\": 85, \"Carol\": 50, \"Eduardo\": 55, \"Marcela\": 79, \"Pedro\": 35}\n",
    "\n",
    "# pegar a chave\n",
    "for x in notas_dic:\n",
    "    print(x)"
   ]
  },
  {
   "cell_type": "code",
   "execution_count": 102,
   "id": "7e0147ee-d2ed-4ada-82ef-972cd95871a8",
   "metadata": {},
   "outputs": [
    {
     "name": "stdout",
     "output_type": "stream",
     "text": [
      "('Andre', 95)\n",
      "('Bruna', 85)\n",
      "('Carol', 50)\n",
      "('Eduardo', 55)\n",
      "('Marcela', 79)\n",
      "('Pedro', 35)\n"
     ]
    }
   ],
   "source": [
    "# pegar chaves e valores\n",
    "for x in notas_dic.items():\n",
    "    print(x)"
   ]
  },
  {
   "cell_type": "code",
   "execution_count": 104,
   "id": "4ff37a16-fdd9-4914-b60e-70640ed29c30",
   "metadata": {},
   "outputs": [
    {
     "name": "stdout",
     "output_type": "stream",
     "text": [
      "O aluno Andre teve nota 95 no simulado\n",
      "O aluno Bruna teve nota 85 no simulado\n",
      "O aluno Carol teve nota 50 no simulado\n",
      "O aluno Eduardo teve nota 55 no simulado\n",
      "O aluno Marcela teve nota 79 no simulado\n",
      "O aluno Pedro teve nota 35 no simulado\n"
     ]
    }
   ],
   "source": [
    "# chave vem antes do valor\n",
    "for chave, valor in notas_dic.items():\n",
    "    print(\"O aluno \"+chave+\" teve nota \"+str(valor)+\" no simulado\")"
   ]
  }
 ],
 "metadata": {
  "kernelspec": {
   "display_name": "Python [conda env:base] *",
   "language": "python",
   "name": "conda-base-py"
  },
  "language_info": {
   "codemirror_mode": {
    "name": "ipython",
    "version": 3
   },
   "file_extension": ".py",
   "mimetype": "text/x-python",
   "name": "python",
   "nbconvert_exporter": "python",
   "pygments_lexer": "ipython3",
   "version": "3.12.7"
  }
 },
 "nbformat": 4,
 "nbformat_minor": 5
}
